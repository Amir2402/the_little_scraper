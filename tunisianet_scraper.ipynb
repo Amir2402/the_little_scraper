{
 "cells": [
  {
   "cell_type": "code",
   "execution_count": 1,
   "metadata": {},
   "outputs": [],
   "source": [
    "import pandas as pd\n",
    "import requests as rq \n",
    "from bs4 import BeautifulSoup\n",
    "\n"
   ]
  },
  {
   "cell_type": "code",
   "execution_count": 18,
   "metadata": {},
   "outputs": [],
   "source": [
    "\n",
    "def get_max(url = 'https://www.tunisianet.com.tn/338-casque-ecouteurs?order=product.price.asc') :\n",
    "    req = rq.get(url) \n",
    "    soup = BeautifulSoup(req.content , 'html.parser')\n",
    "    max_list = soup.find_all('a' , class_=\"js-search-link\" )\n",
    "    max_page = max_list[len(max_list) - 2].string \n",
    "    return int(max_page.string.replace(' ' , ''))\n",
    "\n",
    "\n",
    "\n",
    "\n"
   ]
  },
  {
   "cell_type": "code",
   "execution_count": 20,
   "metadata": {},
   "outputs": [],
   "source": [
    "def price_list_cleaning( prices ) : \n",
    "    new_list = []\n",
    "    for i in range(0 , len(prices) , 2) : \n",
    "        new_list.append(prices[i])\n",
    "    return new_list\n",
    "\n",
    "\n",
    " "
   ]
  },
  {
   "cell_type": "code",
   "execution_count": 34,
   "metadata": {},
   "outputs": [],
   "source": [
    "def get_data(max , url = 'https://www.tunisianet.com.tn/338-casque-ecouteurs?order=product.price.asc') : \n",
    "    product_names = [] \n",
    "    product_prices = []\n",
    "    req = rq.get(url) \n",
    "    for itr in range(max - 1) : \n",
    "        soup = BeautifulSoup(req.content , 'html.parser') \n",
    "        tag1 = soup.find_all('h2' , class_='h3 product-title')\n",
    "        tag2 = soup.find_all('span' , class_= 'price')\n",
    "        product_names.extend([tag.string for tag in tag1])\n",
    "        product_prices.extend([tag.string for tag in tag2])\n",
    "        next_link = soup.find('a' , class_='next js-search-link')\n",
    "        req = rq.get(next_link['href'])\n",
    "    product_prices = price_list_cleaning( product_prices )\n",
    "    df = pd.DataFrame({'names' : product_names , 'prices' : product_prices})\n",
    "    return df "
   ]
  },
  {
   "cell_type": "code",
   "execution_count": 38,
   "metadata": {},
   "outputs": [],
   "source": [
    "max = get_max('https://www.tunisianet.com.tn/331-sac-a-dos-tunisie')\n",
    "df = get_data(max , 'https://www.tunisianet.com.tn/331-sac-a-dos-tunisie')"
   ]
  },
  {
   "cell_type": "code",
   "execution_count": 39,
   "metadata": {},
   "outputs": [
    {
     "data": {
      "text/html": [
       "<div>\n",
       "<style scoped>\n",
       "    .dataframe tbody tr th:only-of-type {\n",
       "        vertical-align: middle;\n",
       "    }\n",
       "\n",
       "    .dataframe tbody tr th {\n",
       "        vertical-align: top;\n",
       "    }\n",
       "\n",
       "    .dataframe thead th {\n",
       "        text-align: right;\n",
       "    }\n",
       "</style>\n",
       "<table border=\"1\" class=\"dataframe\">\n",
       "  <thead>\n",
       "    <tr style=\"text-align: right;\">\n",
       "      <th></th>\n",
       "      <th>names</th>\n",
       "      <th>prices</th>\n",
       "    </tr>\n",
       "  </thead>\n",
       "  <tbody>\n",
       "    <tr>\n",
       "      <th>0</th>\n",
       "      <td>Malette pour Pc Portable 15.6\" Noir</td>\n",
       "      <td>8,900 DT</td>\n",
       "    </tr>\n",
       "    <tr>\n",
       "      <th>1</th>\n",
       "      <td>Malette pour Pc Portable 15.6\" Noir</td>\n",
       "      <td>12,900 DT</td>\n",
       "    </tr>\n",
       "    <tr>\n",
       "      <th>2</th>\n",
       "      <td>Housse de protection BELKIN pour ordinateur po...</td>\n",
       "      <td>29,900 DT</td>\n",
       "    </tr>\n",
       "    <tr>\n",
       "      <th>3</th>\n",
       "      <td>Sacoche GINGER ARMY pour Pc Portable 15.6\"</td>\n",
       "      <td>35,000 DT</td>\n",
       "    </tr>\n",
       "    <tr>\n",
       "      <th>4</th>\n",
       "      <td>Housse de protection BELKIN pour ordinateur po...</td>\n",
       "      <td>45,000 DT</td>\n",
       "    </tr>\n",
       "    <tr>\n",
       "      <th>...</th>\n",
       "      <td>...</td>\n",
       "      <td>...</td>\n",
       "    </tr>\n",
       "    <tr>\n",
       "      <th>91</th>\n",
       "      <td>Sacoche pour PC Portable 15.6\" Rivacase 8135 /...</td>\n",
       "      <td>179,000 DT</td>\n",
       "    </tr>\n",
       "    <tr>\n",
       "      <th>92</th>\n",
       "      <td>Sac à dos Rivacase 5225 20L / 15.6\" / Gris &amp; R...</td>\n",
       "      <td>179,000 DT</td>\n",
       "    </tr>\n",
       "    <tr>\n",
       "      <th>93</th>\n",
       "      <td>Sac à dos Gaming MSI Air Backpack 15.6\"</td>\n",
       "      <td>179,000 DT</td>\n",
       "    </tr>\n",
       "    <tr>\n",
       "      <th>94</th>\n",
       "      <td>Sac à dos Rivacase 7761 pour PC Portable / 15....</td>\n",
       "      <td>179,000 DT</td>\n",
       "    </tr>\n",
       "    <tr>\n",
       "      <th>95</th>\n",
       "      <td>Sac à dos RivaCase Urban 5430 / Violet et Aqua...</td>\n",
       "      <td>179,000 DT</td>\n",
       "    </tr>\n",
       "  </tbody>\n",
       "</table>\n",
       "<p>96 rows × 2 columns</p>\n",
       "</div>"
      ],
      "text/plain": [
       "                                                names      prices\n",
       "0                 Malette pour Pc Portable 15.6\" Noir    8,900 DT\n",
       "1                 Malette pour Pc Portable 15.6\" Noir   12,900 DT\n",
       "2   Housse de protection BELKIN pour ordinateur po...   29,900 DT\n",
       "3          Sacoche GINGER ARMY pour Pc Portable 15.6\"   35,000 DT\n",
       "4   Housse de protection BELKIN pour ordinateur po...   45,000 DT\n",
       "..                                                ...         ...\n",
       "91  Sacoche pour PC Portable 15.6\" Rivacase 8135 /...  179,000 DT\n",
       "92  Sac à dos Rivacase 5225 20L / 15.6\" / Gris & R...  179,000 DT\n",
       "93            Sac à dos Gaming MSI Air Backpack 15.6\"  179,000 DT\n",
       "94  Sac à dos Rivacase 7761 pour PC Portable / 15....  179,000 DT\n",
       "95  Sac à dos RivaCase Urban 5430 / Violet et Aqua...  179,000 DT\n",
       "\n",
       "[96 rows x 2 columns]"
      ]
     },
     "execution_count": 39,
     "metadata": {},
     "output_type": "execute_result"
    }
   ],
   "source": [
    "df.head(df.shape[0])"
   ]
  },
  {
   "cell_type": "code",
   "execution_count": null,
   "metadata": {},
   "outputs": [],
   "source": []
  }
 ],
 "metadata": {
  "kernelspec": {
   "display_name": "Python 3",
   "language": "python",
   "name": "python3"
  },
  "language_info": {
   "codemirror_mode": {
    "name": "ipython",
    "version": 3
   },
   "file_extension": ".py",
   "mimetype": "text/x-python",
   "name": "python",
   "nbconvert_exporter": "python",
   "pygments_lexer": "ipython3",
   "version": "3.10.12"
  },
  "orig_nbformat": 4
 },
 "nbformat": 4,
 "nbformat_minor": 2
}
